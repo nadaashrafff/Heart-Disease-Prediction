{
 "cells": [
  {
   "cell_type": "code",
   "execution_count": 1,
   "id": "27186d87",
   "metadata": {},
   "outputs": [],
   "source": [
    "import pandas as pd\n",
    "import matplotlib.pyplot as plt\n",
    "import seaborn as sns\n",
    "\n",
    "from sklearn.ensemble import RandomForestClassifier\n",
    "from sklearn.linear_model import LogisticRegression\n",
    "from sklearn.feature_selection import RFE, SelectKBest, chi2\n",
    "from pathlib import Path\n"
   ]
  },
  {
   "cell_type": "code",
   "execution_count": 2,
   "id": "19590184",
   "metadata": {},
   "outputs": [
    {
     "name": "stdout",
     "output_type": "stream",
     "text": [
      "Cleaned shape: (920, 23)\n"
     ]
    },
    {
     "data": {
      "text/html": [
       "<div>\n",
       "<style scoped>\n",
       "    .dataframe tbody tr th:only-of-type {\n",
       "        vertical-align: middle;\n",
       "    }\n",
       "\n",
       "    .dataframe tbody tr th {\n",
       "        vertical-align: top;\n",
       "    }\n",
       "\n",
       "    .dataframe thead th {\n",
       "        text-align: right;\n",
       "    }\n",
       "</style>\n",
       "<table border=\"1\" class=\"dataframe\">\n",
       "  <thead>\n",
       "    <tr style=\"text-align: right;\">\n",
       "      <th></th>\n",
       "      <th>id</th>\n",
       "      <th>age</th>\n",
       "      <th>trestbps</th>\n",
       "      <th>chol</th>\n",
       "      <th>fbs</th>\n",
       "      <th>thalch</th>\n",
       "      <th>exang</th>\n",
       "      <th>oldpeak</th>\n",
       "      <th>ca</th>\n",
       "      <th>num</th>\n",
       "      <th>...</th>\n",
       "      <th>dataset_VA Long Beach</th>\n",
       "      <th>cp_atypical angina</th>\n",
       "      <th>cp_non-anginal</th>\n",
       "      <th>cp_typical angina</th>\n",
       "      <th>restecg_normal</th>\n",
       "      <th>restecg_st-t abnormality</th>\n",
       "      <th>slope_flat</th>\n",
       "      <th>slope_upsloping</th>\n",
       "      <th>thal_normal</th>\n",
       "      <th>thal_reversable defect</th>\n",
       "    </tr>\n",
       "  </thead>\n",
       "  <tbody>\n",
       "    <tr>\n",
       "      <th>0</th>\n",
       "      <td>-1.730169</td>\n",
       "      <td>1.007386</td>\n",
       "      <td>0.705176</td>\n",
       "      <td>0.303643</td>\n",
       "      <td>True</td>\n",
       "      <td>0.489727</td>\n",
       "      <td>False</td>\n",
       "      <td>1.368109</td>\n",
       "      <td>-0.361400</td>\n",
       "      <td>0</td>\n",
       "      <td>...</td>\n",
       "      <td>False</td>\n",
       "      <td>False</td>\n",
       "      <td>False</td>\n",
       "      <td>True</td>\n",
       "      <td>False</td>\n",
       "      <td>False</td>\n",
       "      <td>False</td>\n",
       "      <td>False</td>\n",
       "      <td>False</td>\n",
       "      <td>False</td>\n",
       "    </tr>\n",
       "    <tr>\n",
       "      <th>1</th>\n",
       "      <td>-1.726404</td>\n",
       "      <td>1.432034</td>\n",
       "      <td>1.518569</td>\n",
       "      <td>0.789967</td>\n",
       "      <td>False</td>\n",
       "      <td>-1.181478</td>\n",
       "      <td>True</td>\n",
       "      <td>0.611589</td>\n",
       "      <td>4.411152</td>\n",
       "      <td>2</td>\n",
       "      <td>...</td>\n",
       "      <td>False</td>\n",
       "      <td>False</td>\n",
       "      <td>False</td>\n",
       "      <td>False</td>\n",
       "      <td>False</td>\n",
       "      <td>False</td>\n",
       "      <td>True</td>\n",
       "      <td>False</td>\n",
       "      <td>True</td>\n",
       "      <td>False</td>\n",
       "    </tr>\n",
       "    <tr>\n",
       "      <th>2</th>\n",
       "      <td>-1.722639</td>\n",
       "      <td>1.432034</td>\n",
       "      <td>-0.650479</td>\n",
       "      <td>0.266939</td>\n",
       "      <td>False</td>\n",
       "      <td>-0.345875</td>\n",
       "      <td>True</td>\n",
       "      <td>1.651804</td>\n",
       "      <td>2.820301</td>\n",
       "      <td>1</td>\n",
       "      <td>...</td>\n",
       "      <td>False</td>\n",
       "      <td>False</td>\n",
       "      <td>False</td>\n",
       "      <td>False</td>\n",
       "      <td>False</td>\n",
       "      <td>False</td>\n",
       "      <td>True</td>\n",
       "      <td>False</td>\n",
       "      <td>False</td>\n",
       "      <td>True</td>\n",
       "    </tr>\n",
       "    <tr>\n",
       "      <th>3</th>\n",
       "      <td>-1.718873</td>\n",
       "      <td>-1.752828</td>\n",
       "      <td>-0.108217</td>\n",
       "      <td>0.459634</td>\n",
       "      <td>False</td>\n",
       "      <td>1.961979</td>\n",
       "      <td>False</td>\n",
       "      <td>2.502889</td>\n",
       "      <td>-0.361400</td>\n",
       "      <td>0</td>\n",
       "      <td>...</td>\n",
       "      <td>False</td>\n",
       "      <td>False</td>\n",
       "      <td>True</td>\n",
       "      <td>False</td>\n",
       "      <td>True</td>\n",
       "      <td>False</td>\n",
       "      <td>False</td>\n",
       "      <td>False</td>\n",
       "      <td>True</td>\n",
       "      <td>False</td>\n",
       "    </tr>\n",
       "    <tr>\n",
       "      <th>4</th>\n",
       "      <td>-1.715108</td>\n",
       "      <td>-1.328180</td>\n",
       "      <td>-0.108217</td>\n",
       "      <td>0.037541</td>\n",
       "      <td>False</td>\n",
       "      <td>1.365120</td>\n",
       "      <td>False</td>\n",
       "      <td>0.517024</td>\n",
       "      <td>-0.361400</td>\n",
       "      <td>0</td>\n",
       "      <td>...</td>\n",
       "      <td>False</td>\n",
       "      <td>True</td>\n",
       "      <td>False</td>\n",
       "      <td>False</td>\n",
       "      <td>False</td>\n",
       "      <td>False</td>\n",
       "      <td>False</td>\n",
       "      <td>True</td>\n",
       "      <td>True</td>\n",
       "      <td>False</td>\n",
       "    </tr>\n",
       "  </tbody>\n",
       "</table>\n",
       "<p>5 rows × 23 columns</p>\n",
       "</div>"
      ],
      "text/plain": [
       "         id       age  trestbps      chol    fbs    thalch  exang   oldpeak  \\\n",
       "0 -1.730169  1.007386  0.705176  0.303643   True  0.489727  False  1.368109   \n",
       "1 -1.726404  1.432034  1.518569  0.789967  False -1.181478   True  0.611589   \n",
       "2 -1.722639  1.432034 -0.650479  0.266939  False -0.345875   True  1.651804   \n",
       "3 -1.718873 -1.752828 -0.108217  0.459634  False  1.961979  False  2.502889   \n",
       "4 -1.715108 -1.328180 -0.108217  0.037541  False  1.365120  False  0.517024   \n",
       "\n",
       "         ca  num  ...  dataset_VA Long Beach  cp_atypical angina  \\\n",
       "0 -0.361400    0  ...                  False               False   \n",
       "1  4.411152    2  ...                  False               False   \n",
       "2  2.820301    1  ...                  False               False   \n",
       "3 -0.361400    0  ...                  False               False   \n",
       "4 -0.361400    0  ...                  False                True   \n",
       "\n",
       "   cp_non-anginal  cp_typical angina  restecg_normal  \\\n",
       "0           False               True           False   \n",
       "1           False              False           False   \n",
       "2           False              False           False   \n",
       "3            True              False            True   \n",
       "4           False              False           False   \n",
       "\n",
       "   restecg_st-t abnormality  slope_flat  slope_upsloping  thal_normal  \\\n",
       "0                     False       False            False        False   \n",
       "1                     False        True            False         True   \n",
       "2                     False        True            False        False   \n",
       "3                     False       False            False         True   \n",
       "4                     False       False             True         True   \n",
       "\n",
       "   thal_reversable defect  \n",
       "0                   False  \n",
       "1                   False  \n",
       "2                    True  \n",
       "3                   False  \n",
       "4                   False  \n",
       "\n",
       "[5 rows x 23 columns]"
      ]
     },
     "execution_count": 2,
     "metadata": {},
     "output_type": "execute_result"
    }
   ],
   "source": [
    "\n",
    "DATA_PATH = Path(\"/Users/nadaashraf/Heart_Disease_Project/data/cleaned_heart.csv\")\n",
    "assert DATA_PATH.exists(), f\"Missing {DATA_PATH}. Run preprocessing first.\"\n",
    "\n",
    "df = pd.read_csv(DATA_PATH)\n",
    "print(\"Cleaned shape:\", df.shape)\n",
    "df.head()"
   ]
  },
  {
   "cell_type": "code",
   "execution_count": 3,
   "id": "80292b62",
   "metadata": {},
   "outputs": [],
   "source": [
    "X = df.drop(\"num\", axis=1)\n",
    "y = df[\"num\"]\n"
   ]
  },
  {
   "cell_type": "code",
   "execution_count": 5,
   "id": "79ecfa8f",
   "metadata": {},
   "outputs": [],
   "source": [
    " #Feature Importance using Random Forest\n",
    "rf = RandomForestClassifier(random_state=42)\n",
    "rf.fit(X, y)\n",
    "importances = rf.feature_importances_\n",
    "feat_imp = pd.DataFrame({\"Feature\": X.columns, \"Importance\": importances})\n",
    "feat_imp = feat_imp.sort_values(by=\"Importance\", ascending=False)\n",
    "\n",
    "\n"
   ]
  },
  {
   "cell_type": "code",
   "execution_count": 8,
   "id": "c0b68edd",
   "metadata": {},
   "outputs": [
    {
     "name": "stderr",
     "output_type": "stream",
     "text": [
      "/var/folders/1b/267rt42x4q944239m9kb988h0000gn/T/ipykernel_32555/938213956.py:3: FutureWarning: \n",
      "\n",
      "Passing `palette` without assigning `hue` is deprecated and will be removed in v0.14.0. Assign the `y` variable to `hue` and set `legend=False` for the same effect.\n",
      "\n",
      "  sns.barplot(x=\"Importance\", y=\"Feature\", data=feat_imp.head(15), palette=\"viridis\")\n"
     ]
    },
    {
     "data": {
      "image/png": "[encoded data removed]",
      "text/plain": [
       "<Figure size 1000x600 with 1 Axes>"
      ]
     },
     "metadata": {},
     "output_type": "display_data"
    },
    {
     "name": "stdout",
     "output_type": "stream",
     "text": [
      "Top 10 Features (Random Forest):\n",
      "                Feature  Importance\n",
      "0                   id    0.221165\n",
      "1                  age    0.093070\n",
      "5               thalch    0.092733\n",
      "7              oldpeak    0.086595\n",
      "3                 chol    0.086382\n",
      "2             trestbps    0.073960\n",
      "6                exang    0.043520\n",
      "8                   ca    0.035691\n",
      "10     dataset_Hungary    0.033079\n",
      "13  cp_atypical angina    0.025968\n"
     ]
    }
   ],
   "source": [
    "#Plot Feature Importance\n",
    "plt.figure(figsize=(10,6))\n",
    "sns.barplot(x=\"Importance\", y=\"Feature\", data=feat_imp.head(15), palette=\"viridis\")\n",
    "plt.title(\"Top 15 Important Features (Random Forest)\")\n",
    "plt.show()\n",
    "print(\"Top 10 Features (Random Forest):\\n\", feat_imp.head(10))"
   ]
  },
  {
   "cell_type": "code",
   "execution_count": 9,
   "id": "b850258b",
   "metadata": {},
   "outputs": [
    {
     "name": "stdout",
     "output_type": "stream",
     "text": [
      "\n",
      "Selected Features by RFE:\n",
      " Index(['id', 'exang', 'sex_Male', 'dataset_Hungary', 'dataset_Switzerland',\n",
      "       'dataset_VA Long Beach', 'cp_atypical angina', 'cp_non-anginal',\n",
      "       'cp_typical angina', 'thal_normal'],\n",
      "      dtype='object')\n"
     ]
    },
    {
     "name": "stderr",
     "output_type": "stream",
     "text": [
      "/Users/nadaashraf/Heart_Disease_Project/.venv/lib/python3.12/site-packages/sklearn/linear_model/_logistic.py:1296: FutureWarning: Using the 'liblinear' solver for multiclass classification is deprecated. An error will be raised in 1.8. Either use another solver which supports the multinomial loss or wrap the estimator in a OneVsRestClassifier to keep applying a one-versus-rest scheme.\n",
      "  warnings.warn(\n",
      "/Users/nadaashraf/Heart_Disease_Project/.venv/lib/python3.12/site-packages/sklearn/linear_model/_logistic.py:1296: FutureWarning: Using the 'liblinear' solver for multiclass classification is deprecated. An error will be raised in 1.8. Either use another solver which supports the multinomial loss or wrap the estimator in a OneVsRestClassifier to keep applying a one-versus-rest scheme.\n",
      "  warnings.warn(\n",
      "/Users/nadaashraf/Heart_Disease_Project/.venv/lib/python3.12/site-packages/sklearn/linear_model/_logistic.py:1296: FutureWarning: Using the 'liblinear' solver for multiclass classification is deprecated. An error will be raised in 1.8. Either use another solver which supports the multinomial loss or wrap the estimator in a OneVsRestClassifier to keep applying a one-versus-rest scheme.\n",
      "  warnings.warn(\n",
      "/Users/nadaashraf/Heart_Disease_Project/.venv/lib/python3.12/site-packages/sklearn/linear_model/_logistic.py:1296: FutureWarning: Using the 'liblinear' solver for multiclass classification is deprecated. An error will be raised in 1.8. Either use another solver which supports the multinomial loss or wrap the estimator in a OneVsRestClassifier to keep applying a one-versus-rest scheme.\n",
      "  warnings.warn(\n",
      "/Users/nadaashraf/Heart_Disease_Project/.venv/lib/python3.12/site-packages/sklearn/linear_model/_logistic.py:1296: FutureWarning: Using the 'liblinear' solver for multiclass classification is deprecated. An error will be raised in 1.8. Either use another solver which supports the multinomial loss or wrap the estimator in a OneVsRestClassifier to keep applying a one-versus-rest scheme.\n",
      "  warnings.warn(\n",
      "/Users/nadaashraf/Heart_Disease_Project/.venv/lib/python3.12/site-packages/sklearn/linear_model/_logistic.py:1296: FutureWarning: Using the 'liblinear' solver for multiclass classification is deprecated. An error will be raised in 1.8. Either use another solver which supports the multinomial loss or wrap the estimator in a OneVsRestClassifier to keep applying a one-versus-rest scheme.\n",
      "  warnings.warn(\n",
      "/Users/nadaashraf/Heart_Disease_Project/.venv/lib/python3.12/site-packages/sklearn/linear_model/_logistic.py:1296: FutureWarning: Using the 'liblinear' solver for multiclass classification is deprecated. An error will be raised in 1.8. Either use another solver which supports the multinomial loss or wrap the estimator in a OneVsRestClassifier to keep applying a one-versus-rest scheme.\n",
      "  warnings.warn(\n",
      "/Users/nadaashraf/Heart_Disease_Project/.venv/lib/python3.12/site-packages/sklearn/linear_model/_logistic.py:1296: FutureWarning: Using the 'liblinear' solver for multiclass classification is deprecated. An error will be raised in 1.8. Either use another solver which supports the multinomial loss or wrap the estimator in a OneVsRestClassifier to keep applying a one-versus-rest scheme.\n",
      "  warnings.warn(\n",
      "/Users/nadaashraf/Heart_Disease_Project/.venv/lib/python3.12/site-packages/sklearn/linear_model/_logistic.py:1296: FutureWarning: Using the 'liblinear' solver for multiclass classification is deprecated. An error will be raised in 1.8. Either use another solver which supports the multinomial loss or wrap the estimator in a OneVsRestClassifier to keep applying a one-versus-rest scheme.\n",
      "  warnings.warn(\n",
      "/Users/nadaashraf/Heart_Disease_Project/.venv/lib/python3.12/site-packages/sklearn/linear_model/_logistic.py:1296: FutureWarning: Using the 'liblinear' solver for multiclass classification is deprecated. An error will be raised in 1.8. Either use another solver which supports the multinomial loss or wrap the estimator in a OneVsRestClassifier to keep applying a one-versus-rest scheme.\n",
      "  warnings.warn(\n",
      "/Users/nadaashraf/Heart_Disease_Project/.venv/lib/python3.12/site-packages/sklearn/linear_model/_logistic.py:1296: FutureWarning: Using the 'liblinear' solver for multiclass classification is deprecated. An error will be raised in 1.8. Either use another solver which supports the multinomial loss or wrap the estimator in a OneVsRestClassifier to keep applying a one-versus-rest scheme.\n",
      "  warnings.warn(\n",
      "/Users/nadaashraf/Heart_Disease_Project/.venv/lib/python3.12/site-packages/sklearn/linear_model/_logistic.py:1296: FutureWarning: Using the 'liblinear' solver for multiclass classification is deprecated. An error will be raised in 1.8. Either use another solver which supports the multinomial loss or wrap the estimator in a OneVsRestClassifier to keep applying a one-versus-rest scheme.\n",
      "  warnings.warn(\n",
      "/Users/nadaashraf/Heart_Disease_Project/.venv/lib/python3.12/site-packages/sklearn/linear_model/_logistic.py:1296: FutureWarning: Using the 'liblinear' solver for multiclass classification is deprecated. An error will be raised in 1.8. Either use another solver which supports the multinomial loss or wrap the estimator in a OneVsRestClassifier to keep applying a one-versus-rest scheme.\n",
      "  warnings.warn(\n"
     ]
    }
   ],
   "source": [
    "#Recursive Feature Elimination (RFE) with Logistic Regression\n",
    "model = LogisticRegression(max_iter=2000, solver=\"liblinear\")\n",
    "rfe = RFE(model, n_features_to_select=10)   # select top 10 predictors\n",
    "rfe.fit(X, y)\n",
    "selected_features_rfe = X.columns[rfe.support_]\n",
    "print(\"\\nSelected Features by RFE:\\n\", selected_features_rfe)"
   ]
  },
  {
   "cell_type": "code",
   "execution_count": 10,
   "id": "231523f9",
   "metadata": {},
   "outputs": [
    {
     "name": "stdout",
     "output_type": "stream",
     "text": [
      "\n",
      "Top Features by Chi-Square Test:\n",
      " Index(['chol', 'exang', 'oldpeak', 'ca', 'dataset_Hungary',\n",
      "       'dataset_Switzerland', 'dataset_VA Long Beach', 'cp_atypical angina',\n",
      "       'cp_non-anginal', 'thal_reversable defect'],\n",
      "      dtype='object')\n"
     ]
    }
   ],
   "source": [
    "# Chi-Square Test (for categorical relevance)\n",
    "chi_selector = SelectKBest(score_func=chi2, k=10)\n",
    "X_chi = chi_selector.fit_transform(abs(X), y)  # abs() to avoid negatives from scaling\n",
    "chi_features = X.columns[chi_selector.get_support()]\n",
    "print(\"\\nTop Features by Chi-Square Test:\\n\", chi_features)"
   ]
  },
  {
   "cell_type": "code",
   "execution_count": 12,
   "id": "c95092fc",
   "metadata": {},
   "outputs": [
    {
     "name": "stdout",
     "output_type": "stream",
     "text": [
      "\n",
      " Final Selected Features for Modeling:\n",
      " {'dataset_Hungary', 'dataset_Switzerland', 'dataset_VA Long Beach', 'trestbps', 'id', 'cp_non-anginal', 'exang', 'sex_Male', 'thal_reversable defect', 'thal_normal', 'cp_typical angina', 'ca', 'chol', 'oldpeak', 'thalch', 'age', 'cp_atypical angina'}\n"
     ]
    }
   ],
   "source": [
    "# Final Selected Features (RFE and Chi Square)\n",
    "final_features = set(selected_features_rfe).union(set(chi_features)).union(set(feat_imp.head(10)[\"Feature\"]))\n",
    "print(\"\\n Final Selected Features for Modeling:\\n\", final_features)\n"
   ]
  },
  {
   "cell_type": "code",
   "execution_count": 13,
   "id": "94912e76",
   "metadata": {},
   "outputs": [
    {
     "name": "stdout",
     "output_type": "stream",
     "text": [
      "{'dataset_Hungary', 'dataset_Switzerland', 'dataset_VA Long Beach', 'trestbps', 'cp_non-anginal', 'exang', 'sex_Male', 'thal_reversable defect', 'thal_normal', 'cp_typical angina', 'ca', 'chol', 'oldpeak', 'thalch', 'age', 'cp_atypical angina'}\n"
     ]
    }
   ],
   "source": [
    "# Remove 'id' \n",
    "if \"id\" in final_features:\n",
    "    final_features.remove(\"id\")\n",
    "print(final_features)"
   ]
  },
  {
   "cell_type": "markdown",
   "id": "fda8b4bd",
   "metadata": {},
   "source": [
    "the features (dataset_Hungary, dataset_Switzerland, dataset_VA Long Beach)\n",
    "\n",
    "These don’t describe the patient’s health, they describe where the data came from.\n",
    "\n",
    "If we included them, then the model may learn dataset quirks (like Hungary patients being older, Switzerland patients having more cholesterol, etc.).\n",
    "\n",
    "That can artificially improve accuracy but reduce generalization which may lead to unnessecary overfit.\n",
    "\n",
    "therefore, we will remove these features."
   ]
  },
  {
   "cell_type": "code",
   "execution_count": null,
   "id": "9e09c2d5",
   "metadata": {},
   "outputs": [
    {
     "name": "stdout",
     "output_type": "stream",
     "text": [
      "Final Medical-Only Features:\n",
      "['trestbps', 'cp_non-anginal', 'exang', 'sex_Male', 'thal_reversable defect', 'thal_normal', 'cp_typical angina', 'ca', 'chol', 'oldpeak', 'thalch', 'age', 'cp_atypical angina']\n",
      "Reduced shape: (920, 14)\n",
      "Saved: /Users/nadaashraf/Heart_Disease_Project/data/heart_selected_features.csv\n"
     ]
    }
   ],
   "source": [
    "# Columns that may cause overfit\n",
    "dataset_cols = {\"dataset_Hungary\", \"dataset_Switzerland\", \"dataset_VA Long Beach\"}\n",
    "\n",
    "# removing them\n",
    "final_features_clean = [f for f in final_features if f not in dataset_cols]\n",
    "\n",
    "print(\"Final Medical-Only Features:\")\n",
    "print(final_features_clean)\n",
    "\n",
    "\n",
    "df_selected_clean = df[final_features_clean + [\"num\"]]\n",
    "print(\"Reduced shape:\", df_selected_clean.shape)\n",
    "\n",
    "# reduced dataset\n",
    "OUT_PATH = Path(\"/Users/nadaashraf/Heart_Disease_Project/data/heart_selected_features.csv\")\n",
    "df_selected_clean.to_csv(OUT_PATH, index=False)\n",
    "print(\"Saved:\", OUT_PATH.resolve())\n"
   ]
  },
  {
   "cell_type": "code",
   "execution_count": null,
   "id": "e4992a2c",
   "metadata": {},
   "outputs": [],
   "source": []
  }
 ],
 "metadata": {
  "kernelspec": {
   "display_name": ".venv (3.12.2)",
   "language": "python",
   "name": "python3"
  },
  "language_info": {
   "codemirror_mode": {
    "name": "ipython",
    "version": 3
   },
   "file_extension": ".py",
   "mimetype": "text/x-python",
   "name": "python",
   "nbconvert_exporter": "python",
   "pygments_lexer": "ipython3",
   "version": "3.12.2"
  }
 },
 "nbformat": 4,
 "nbformat_minor": 5
}
